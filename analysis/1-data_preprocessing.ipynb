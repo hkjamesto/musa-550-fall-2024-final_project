{
 "cells": [
  {
   "cell_type": "markdown",
   "id": "e3752f53-dfe8-4b38-82a5-a583876c3cb9",
   "metadata": {},
   "source": [
    "---\n",
    "format: \n",
    "  html:\n",
    "    toc: true\n",
    "execute:\n",
    "  echo: true\n",
    "---"
   ]
  },
  {
   "cell_type": "markdown",
   "id": "4ba8df52-28c1-4a85-8adf-e442725bfc3e",
   "metadata": {},
   "source": [
    "### Data Pre-processing"
   ]
  },
  {
   "cell_type": "markdown",
   "id": "2b4323fd-2dfc-4811-90d9-0ca9d3aef983",
   "metadata": {},
   "source": [
    "Let's import all the necessary libraries."
   ]
  },
  {
   "cell_type": "code",
   "execution_count": 13,
   "id": "e88b03e3-9435-450b-972e-68c4badf14e8",
   "metadata": {
    "tags": []
   },
   "outputs": [],
   "source": [
    "#| code-fold: true\n",
    "\n",
    "# Basics\n",
    "import numpy as np\n",
    "import pandas as pd\n",
    "import geopandas as gpd\n",
    "from zipfile import ZipFile # For opening .csv files inside the .zip files.\n",
    "from itertools import chain # For flattening property and violent crime codes from the nested dictionary.\n",
    "import os\n",
    "from shapely.geometry import Point"
   ]
  },
  {
   "cell_type": "markdown",
   "id": "ae54df32-40bc-483d-a6ed-9b7c57474c08",
   "metadata": {
    "tags": []
   },
   "source": [
    "#### Now, we can begin prepare the data. The first step is recovering the original data frames from the split files. The original .csv files are too large, so they are pre-split to facilitate uploading. The following codes are used to combine them back to their original forms."
   ]
  },
  {
   "cell_type": "code",
   "execution_count": 2,
   "id": "a005d9f2-3756-4462-8262-bfd7705ccfdb",
   "metadata": {
    "tags": []
   },
   "outputs": [],
   "source": [
    "def load_split_files(directory):\n",
    "    all_parts = []\n",
    "    for filename in sorted(os.listdir(directory)):\n",
    "        if filename.endswith('.csv'):\n",
    "            part_df = pd.read_csv(os.path.join(directory, filename))\n",
    "            all_parts.append(part_df)\n",
    "    return pd.concat(all_parts, ignore_index = True)\n",
    "\n",
    "# Load the files\n",
    "df_2010_2019 = load_split_files('./data/split_files_2010_2019')\n",
    "df_2020_present = load_split_files('./data/split_files_2020_present')"
   ]
  },
  {
   "cell_type": "markdown",
   "id": "948c1255-87b3-4114-9d29-5faf1581e817",
   "metadata": {},
   "source": [
    "**Note:** Both data sets contain more than 1 million rows."
   ]
  },
  {
   "cell_type": "code",
   "execution_count": 15,
   "id": "aace5b1e-2543-4831-8503-cd6f2bbfd93e",
   "metadata": {
    "tags": []
   },
   "outputs": [
    {
     "name": "stdout",
     "output_type": "stream",
     "text": [
      "The crime data from 2010 to 2019 contains 1688586 rows.\n",
      "The crime data from 2010 to 2019 contains 1001112 rows.\n"
     ]
    }
   ],
   "source": [
    "print(f\"The crime data from 2010 to 2019 contains {len(df_2010_2019)} rows.\")\n",
    "print(f\"The crime data from 2010 to 2019 contains {len(df_2020_present)} rows.\")"
   ]
  },
  {
   "cell_type": "markdown",
   "id": "5cb8473c-9562-466c-9d10-d440100025dc",
   "metadata": {},
   "source": [
    "There is a slight caveat: For the crime data from 2010 to 2019, the variable name for the area code is \"AREA \" (note the trailing space), but for the crime data starting from 2020, the variable name for the area code is \"AREA\". So, I rename the column \"AREA \" to \"AREA\" in \"df_2010_2019\" so that both data frames are consistent in terms of variable names.\n",
    "\n",
    "There are also repeated records, and these are dropped before merging."
   ]
  },
  {
   "cell_type": "code",
   "execution_count": 3,
   "id": "d97aa5b2-803e-4ca6-9e64-7f92f3ffb3ea",
   "metadata": {
    "tags": []
   },
   "outputs": [],
   "source": [
    "df_2010_2019.rename(columns = {\"AREA \": \"AREA\"}, inplace=True)\n",
    "df_2010_2019 = df_2010_2019.drop_duplicates(subset = [\"DR_NO\"], keep = \"first\")"
   ]
  },
  {
   "cell_type": "markdown",
   "id": "8fcaec9e-725d-469a-bc80-5609266e4e66",
   "metadata": {},
   "source": [
    "#### Now, I merge the two data frames together."
   ]
  },
  {
   "cell_type": "code",
   "execution_count": 4,
   "id": "c2f5bbfc-53fe-4b74-be9e-77ccdfe3df13",
   "metadata": {
    "tags": []
   },
   "outputs": [],
   "source": [
    "#| code-fold: true\n",
    "\n",
    "data = pd.concat([df_2010_2019, df_2020_present]).reset_index(drop = True)"
   ]
  },
  {
   "cell_type": "markdown",
   "id": "3a12ffe7-4aff-4635-9f21-e558045521a1",
   "metadata": {},
   "source": [
    "The descriptions of some of the variables in the data set are provided below."
   ]
  },
  {
   "cell_type": "markdown",
   "id": "5eb07404-0fd2-4a49-a010-4d1f3be1d82e",
   "metadata": {},
   "source": [
    "#### Variables Description\n",
    "\n",
    "- DATE OCC: Presumably date occured. In MM/DD/YYYY format.\n",
    "- AREA: The LAPD has 21 Community Police Stations referred to as Geographic Areas within the department. These Geographic Areas are sequentially numbered from 1-21.\n",
    "- Crm Cd: Indicates the crime committed. (Same as Crime Code 1)\n",
    "- Crm Cd Desc: Defines the Crime Code provided.\n",
    "- LAT: Latitude\n",
    "- LON: Longtitude"
   ]
  },
  {
   "cell_type": "markdown",
   "id": "10a6fc06-cdbf-4952-aee2-440a42f5e978",
   "metadata": {},
   "source": [
    "These will be the variables to be used in the remaining of the analyses."
   ]
  },
  {
   "cell_type": "code",
   "execution_count": 5,
   "id": "609045fe-4ce1-49ee-9bcd-5c7ed17b7c4c",
   "metadata": {
    "tags": []
   },
   "outputs": [
    {
     "data": {
      "text/html": [
       "<div>\n",
       "<style scoped>\n",
       "    .dataframe tbody tr th:only-of-type {\n",
       "        vertical-align: middle;\n",
       "    }\n",
       "\n",
       "    .dataframe tbody tr th {\n",
       "        vertical-align: top;\n",
       "    }\n",
       "\n",
       "    .dataframe thead th {\n",
       "        text-align: right;\n",
       "    }\n",
       "</style>\n",
       "<table border=\"1\" class=\"dataframe\">\n",
       "  <thead>\n",
       "    <tr style=\"text-align: right;\">\n",
       "      <th></th>\n",
       "      <th>DATE OCC</th>\n",
       "      <th>AREA</th>\n",
       "      <th>Crm Cd</th>\n",
       "      <th>Crm Cd Desc</th>\n",
       "      <th>LAT</th>\n",
       "      <th>LON</th>\n",
       "    </tr>\n",
       "  </thead>\n",
       "  <tbody>\n",
       "    <tr>\n",
       "      <th>0</th>\n",
       "      <td>02/20/2010 12:00:00 AM</td>\n",
       "      <td>13</td>\n",
       "      <td>900</td>\n",
       "      <td>VIOLATION OF COURT ORDER</td>\n",
       "      <td>33.9825</td>\n",
       "      <td>-118.2695</td>\n",
       "    </tr>\n",
       "    <tr>\n",
       "      <th>1</th>\n",
       "      <td>09/12/2010 12:00:00 AM</td>\n",
       "      <td>14</td>\n",
       "      <td>740</td>\n",
       "      <td>VANDALISM - FELONY ($400 &amp; OVER, ALL CHURCH VA...</td>\n",
       "      <td>33.9599</td>\n",
       "      <td>-118.3962</td>\n",
       "    </tr>\n",
       "    <tr>\n",
       "      <th>2</th>\n",
       "      <td>08/09/2010 12:00:00 AM</td>\n",
       "      <td>13</td>\n",
       "      <td>946</td>\n",
       "      <td>OTHER MISCELLANEOUS CRIME</td>\n",
       "      <td>34.0224</td>\n",
       "      <td>-118.2524</td>\n",
       "    </tr>\n",
       "    <tr>\n",
       "      <th>3</th>\n",
       "      <td>01/05/2010 12:00:00 AM</td>\n",
       "      <td>6</td>\n",
       "      <td>900</td>\n",
       "      <td>VIOLATION OF COURT ORDER</td>\n",
       "      <td>34.1016</td>\n",
       "      <td>-118.3295</td>\n",
       "    </tr>\n",
       "    <tr>\n",
       "      <th>4</th>\n",
       "      <td>01/02/2010 12:00:00 AM</td>\n",
       "      <td>1</td>\n",
       "      <td>122</td>\n",
       "      <td>RAPE, ATTEMPTED</td>\n",
       "      <td>34.0387</td>\n",
       "      <td>-118.2488</td>\n",
       "    </tr>\n",
       "  </tbody>\n",
       "</table>\n",
       "</div>"
      ],
      "text/plain": [
       "                 DATE OCC  AREA  Crm Cd  \\\n",
       "0  02/20/2010 12:00:00 AM    13     900   \n",
       "1  09/12/2010 12:00:00 AM    14     740   \n",
       "2  08/09/2010 12:00:00 AM    13     946   \n",
       "3  01/05/2010 12:00:00 AM     6     900   \n",
       "4  01/02/2010 12:00:00 AM     1     122   \n",
       "\n",
       "                                         Crm Cd Desc      LAT       LON  \n",
       "0                           VIOLATION OF COURT ORDER  33.9825 -118.2695  \n",
       "1  VANDALISM - FELONY ($400 & OVER, ALL CHURCH VA...  33.9599 -118.3962  \n",
       "2                          OTHER MISCELLANEOUS CRIME  34.0224 -118.2524  \n",
       "3                           VIOLATION OF COURT ORDER  34.1016 -118.3295  \n",
       "4                                    RAPE, ATTEMPTED  34.0387 -118.2488  "
      ]
     },
     "execution_count": 5,
     "metadata": {},
     "output_type": "execute_result"
    }
   ],
   "source": [
    "# Extract the relevant columns.\n",
    "\n",
    "LAcrime = data[[\"DATE OCC\", \"AREA\", \"Crm Cd\", \"Crm Cd Desc\", \"LAT\", \"LON\"]].copy()\n",
    "LAcrime.head()"
   ]
  },
  {
   "cell_type": "markdown",
   "id": "0372f9ff-dbe7-4717-b0fd-500cdeb81da2",
   "metadata": {},
   "source": [
    "Create a new \"Date\" column based on \"DATE OCC\", and then extract the year, month, and day, and store them in respective columns."
   ]
  },
  {
   "cell_type": "code",
   "execution_count": 6,
   "id": "c42ee88b-91ca-49b9-ba07-117cb91b62c1",
   "metadata": {
    "tags": []
   },
   "outputs": [
    {
     "data": {
      "text/html": [
       "<div>\n",
       "<style scoped>\n",
       "    .dataframe tbody tr th:only-of-type {\n",
       "        vertical-align: middle;\n",
       "    }\n",
       "\n",
       "    .dataframe tbody tr th {\n",
       "        vertical-align: top;\n",
       "    }\n",
       "\n",
       "    .dataframe thead th {\n",
       "        text-align: right;\n",
       "    }\n",
       "</style>\n",
       "<table border=\"1\" class=\"dataframe\">\n",
       "  <thead>\n",
       "    <tr style=\"text-align: right;\">\n",
       "      <th></th>\n",
       "      <th>DATE OCC</th>\n",
       "      <th>AREA</th>\n",
       "      <th>Crm Cd</th>\n",
       "      <th>Crm Cd Desc</th>\n",
       "      <th>LAT</th>\n",
       "      <th>LON</th>\n",
       "      <th>Date</th>\n",
       "      <th>Year</th>\n",
       "      <th>Month</th>\n",
       "      <th>Day</th>\n",
       "    </tr>\n",
       "  </thead>\n",
       "  <tbody>\n",
       "    <tr>\n",
       "      <th>0</th>\n",
       "      <td>02/20/2010 12:00:00 AM</td>\n",
       "      <td>13</td>\n",
       "      <td>900</td>\n",
       "      <td>VIOLATION OF COURT ORDER</td>\n",
       "      <td>33.9825</td>\n",
       "      <td>-118.2695</td>\n",
       "      <td>2010-02-20</td>\n",
       "      <td>2010</td>\n",
       "      <td>2</td>\n",
       "      <td>Saturday</td>\n",
       "    </tr>\n",
       "    <tr>\n",
       "      <th>1</th>\n",
       "      <td>09/12/2010 12:00:00 AM</td>\n",
       "      <td>14</td>\n",
       "      <td>740</td>\n",
       "      <td>VANDALISM - FELONY ($400 &amp; OVER, ALL CHURCH VA...</td>\n",
       "      <td>33.9599</td>\n",
       "      <td>-118.3962</td>\n",
       "      <td>2010-09-12</td>\n",
       "      <td>2010</td>\n",
       "      <td>9</td>\n",
       "      <td>Sunday</td>\n",
       "    </tr>\n",
       "    <tr>\n",
       "      <th>2</th>\n",
       "      <td>08/09/2010 12:00:00 AM</td>\n",
       "      <td>13</td>\n",
       "      <td>946</td>\n",
       "      <td>OTHER MISCELLANEOUS CRIME</td>\n",
       "      <td>34.0224</td>\n",
       "      <td>-118.2524</td>\n",
       "      <td>2010-08-09</td>\n",
       "      <td>2010</td>\n",
       "      <td>8</td>\n",
       "      <td>Monday</td>\n",
       "    </tr>\n",
       "    <tr>\n",
       "      <th>3</th>\n",
       "      <td>01/05/2010 12:00:00 AM</td>\n",
       "      <td>6</td>\n",
       "      <td>900</td>\n",
       "      <td>VIOLATION OF COURT ORDER</td>\n",
       "      <td>34.1016</td>\n",
       "      <td>-118.3295</td>\n",
       "      <td>2010-01-05</td>\n",
       "      <td>2010</td>\n",
       "      <td>1</td>\n",
       "      <td>Tuesday</td>\n",
       "    </tr>\n",
       "    <tr>\n",
       "      <th>4</th>\n",
       "      <td>01/02/2010 12:00:00 AM</td>\n",
       "      <td>1</td>\n",
       "      <td>122</td>\n",
       "      <td>RAPE, ATTEMPTED</td>\n",
       "      <td>34.0387</td>\n",
       "      <td>-118.2488</td>\n",
       "      <td>2010-01-02</td>\n",
       "      <td>2010</td>\n",
       "      <td>1</td>\n",
       "      <td>Saturday</td>\n",
       "    </tr>\n",
       "  </tbody>\n",
       "</table>\n",
       "</div>"
      ],
      "text/plain": [
       "                 DATE OCC  AREA  Crm Cd  \\\n",
       "0  02/20/2010 12:00:00 AM    13     900   \n",
       "1  09/12/2010 12:00:00 AM    14     740   \n",
       "2  08/09/2010 12:00:00 AM    13     946   \n",
       "3  01/05/2010 12:00:00 AM     6     900   \n",
       "4  01/02/2010 12:00:00 AM     1     122   \n",
       "\n",
       "                                         Crm Cd Desc      LAT       LON  \\\n",
       "0                           VIOLATION OF COURT ORDER  33.9825 -118.2695   \n",
       "1  VANDALISM - FELONY ($400 & OVER, ALL CHURCH VA...  33.9599 -118.3962   \n",
       "2                          OTHER MISCELLANEOUS CRIME  34.0224 -118.2524   \n",
       "3                           VIOLATION OF COURT ORDER  34.1016 -118.3295   \n",
       "4                                    RAPE, ATTEMPTED  34.0387 -118.2488   \n",
       "\n",
       "        Date  Year  Month       Day  \n",
       "0 2010-02-20  2010      2  Saturday  \n",
       "1 2010-09-12  2010      9    Sunday  \n",
       "2 2010-08-09  2010      8    Monday  \n",
       "3 2010-01-05  2010      1   Tuesday  \n",
       "4 2010-01-02  2010      1  Saturday  "
      ]
     },
     "execution_count": 6,
     "metadata": {},
     "output_type": "execute_result"
    }
   ],
   "source": [
    "# Convert the dates stored in \"DATE OCC\" into a proper datetime format and store it as a new variable \"Date\".\n",
    "\n",
    "LAcrime[\"Date\"] = pd.to_datetime(LAcrime[\"DATE OCC\"])\n",
    "LAcrime[\"Year\"] = LAcrime[\"Date\"].dt.year\n",
    "LAcrime[\"Month\"] = LAcrime[\"Date\"].dt.month\n",
    "LAcrime[\"Day\"] = LAcrime[\"Date\"].dt.day_name()\n",
    "\n",
    "LAcrime.head()"
   ]
  },
  {
   "cell_type": "markdown",
   "id": "e4a8b3fe-d431-4710-a2a0-fbae13391122",
   "metadata": {},
   "source": [
    "#### We focus on violent crimes and property crimes. The crime codes and categories are based on UCR Reporting."
   ]
  },
  {
   "cell_type": "code",
   "execution_count": 7,
   "id": "2ca8763b-b071-482d-8b7b-70ee06bb4a4c",
   "metadata": {
    "tags": []
   },
   "outputs": [],
   "source": [
    "# Nested dictionary of crime codes.\n",
    "\n",
    "crime_codes = {\n",
    "    \"Violent\": {\n",
    "        \"Homicide\": [110, 113],\n",
    "        \"Rape\": [121, 122, 815, 820, 821],\n",
    "        \"Robbery\": [210, 220],\n",
    "        \"Aggravated Assaults\": [230, 231, 235, 236, 250, 251, 761, 926],\n",
    "        \"Simple Assaults\": [435, 436, 437, 622, 623, 624, 625, 626, 627, 647, 763, 928, 930]\n",
    "    },\n",
    "    \"Property\": {\n",
    "        \"Burglary\": [310, 320],\n",
    "        \"Motor Vehicle Theft\": [510, 520, 433],\n",
    "        \"Theft from Vehicle\": [330, 331, 410, 420, 421],\n",
    "        \"Personal Theft\": [350, 351, 352, 353, 450, 451, 452, 453],\n",
    "        \"Other Theft\": [341, 343, 345, 440, 441, 442, 443, 444, 445, 470, 471, 472, 473, 474, 475, 480, 485, 487, 491]\n",
    "    }\n",
    "}"
   ]
  },
  {
   "cell_type": "code",
   "execution_count": 8,
   "id": "87acbeb6-3dd9-44e0-a4f1-2b8fda6e8d21",
   "metadata": {
    "tags": []
   },
   "outputs": [],
   "source": [
    "# Flatten the violent and property crime codes.\n",
    "violent_codes = list(chain(*crime_codes[\"Violent\"].values()))\n",
    "property_codes = list(chain(*crime_codes[\"Property\"].values()))"
   ]
  },
  {
   "cell_type": "markdown",
   "id": "d340397c-7731-4fd8-a775-63f8e8f9754e",
   "metadata": {},
   "source": [
    "Based on the violent and property crime codes, create two new columns to store the corresponding crime categories (\"Crime_Description\") and crime type (\"Crime Type\")."
   ]
  },
  {
   "cell_type": "code",
   "execution_count": 9,
   "id": "fb17a130-c773-413e-886b-40f443f73147",
   "metadata": {
    "tags": []
   },
   "outputs": [],
   "source": [
    "# Flatten the crime_codes dictionary to map codes to descriptions.\n",
    "code_to_description = {}\n",
    "for crime_type, subdict in crime_codes.items():\n",
    "    for description, codes in subdict.items():\n",
    "        for code in codes:\n",
    "            code_to_description[code] = description\n",
    "\n",
    "# Add a \"Crime_Description\" column.\n",
    "LAcrime[\"Crime_Description\"] = LAcrime[\"Crm Cd\"].map(code_to_description)"
   ]
  },
  {
   "cell_type": "code",
   "execution_count": 10,
   "id": "3767530d-8419-4cd1-a4db-e8d7baf61fea",
   "metadata": {
    "tags": []
   },
   "outputs": [],
   "source": [
    "LAcrime = LAcrime[LAcrime[\"Crm Cd\"].isin(violent_codes + property_codes)]\n",
    "\n",
    "# Create conditions for assigning crime types.\n",
    "conditions = [\n",
    "    LAcrime[\"Crm Cd\"].isin(violent_codes),\n",
    "    LAcrime[\"Crm Cd\"].isin(property_codes)\n",
    "]\n",
    "\n",
    "# Define corresponding choices (the crime types).\n",
    "choices = [\"violent\", \"property\"]\n",
    "\n",
    "# Assign the crime type based on the conditions.\n",
    "LAcrime[\"Crime Type\"] = np.select(conditions, choices, default = \"other\")"
   ]
  },
  {
   "cell_type": "markdown",
   "id": "600ba5ab-145b-4477-a85d-132ec6f6be89",
   "metadata": {},
   "source": [
    "The pre-processed data frame looks like this:"
   ]
  },
  {
   "cell_type": "code",
   "execution_count": 11,
   "id": "906eb6d7-0106-4782-b74d-79c1f09b7363",
   "metadata": {
    "tags": []
   },
   "outputs": [
    {
     "data": {
      "text/html": [
       "<div>\n",
       "<style scoped>\n",
       "    .dataframe tbody tr th:only-of-type {\n",
       "        vertical-align: middle;\n",
       "    }\n",
       "\n",
       "    .dataframe tbody tr th {\n",
       "        vertical-align: top;\n",
       "    }\n",
       "\n",
       "    .dataframe thead th {\n",
       "        text-align: right;\n",
       "    }\n",
       "</style>\n",
       "<table border=\"1\" class=\"dataframe\">\n",
       "  <thead>\n",
       "    <tr style=\"text-align: right;\">\n",
       "      <th></th>\n",
       "      <th>DATE OCC</th>\n",
       "      <th>AREA</th>\n",
       "      <th>Crm Cd</th>\n",
       "      <th>Crm Cd Desc</th>\n",
       "      <th>LAT</th>\n",
       "      <th>LON</th>\n",
       "      <th>Date</th>\n",
       "      <th>Year</th>\n",
       "      <th>Month</th>\n",
       "      <th>Day</th>\n",
       "      <th>Crime_Description</th>\n",
       "      <th>Crime Type</th>\n",
       "    </tr>\n",
       "  </thead>\n",
       "  <tbody>\n",
       "    <tr>\n",
       "      <th>4</th>\n",
       "      <td>01/02/2010 12:00:00 AM</td>\n",
       "      <td>1</td>\n",
       "      <td>122</td>\n",
       "      <td>RAPE, ATTEMPTED</td>\n",
       "      <td>34.0387</td>\n",
       "      <td>-118.2488</td>\n",
       "      <td>2010-01-02</td>\n",
       "      <td>2010</td>\n",
       "      <td>1</td>\n",
       "      <td>Saturday</td>\n",
       "      <td>Rape</td>\n",
       "      <td>violent</td>\n",
       "    </tr>\n",
       "    <tr>\n",
       "      <th>5</th>\n",
       "      <td>01/04/2010 12:00:00 AM</td>\n",
       "      <td>1</td>\n",
       "      <td>442</td>\n",
       "      <td>SHOPLIFTING - PETTY THEFT ($950 &amp; UNDER)</td>\n",
       "      <td>34.0480</td>\n",
       "      <td>-118.2577</td>\n",
       "      <td>2010-01-04</td>\n",
       "      <td>2010</td>\n",
       "      <td>1</td>\n",
       "      <td>Monday</td>\n",
       "      <td>Other Theft</td>\n",
       "      <td>property</td>\n",
       "    </tr>\n",
       "    <tr>\n",
       "      <th>6</th>\n",
       "      <td>01/07/2010 12:00:00 AM</td>\n",
       "      <td>1</td>\n",
       "      <td>330</td>\n",
       "      <td>BURGLARY FROM VEHICLE</td>\n",
       "      <td>34.0389</td>\n",
       "      <td>-118.2643</td>\n",
       "      <td>2010-01-07</td>\n",
       "      <td>2010</td>\n",
       "      <td>1</td>\n",
       "      <td>Thursday</td>\n",
       "      <td>Theft from Vehicle</td>\n",
       "      <td>property</td>\n",
       "    </tr>\n",
       "    <tr>\n",
       "      <th>7</th>\n",
       "      <td>01/08/2010 12:00:00 AM</td>\n",
       "      <td>1</td>\n",
       "      <td>230</td>\n",
       "      <td>ASSAULT WITH DEADLY WEAPON, AGGRAVATED ASSAULT</td>\n",
       "      <td>34.0435</td>\n",
       "      <td>-118.2427</td>\n",
       "      <td>2010-01-08</td>\n",
       "      <td>2010</td>\n",
       "      <td>1</td>\n",
       "      <td>Friday</td>\n",
       "      <td>Aggravated Assaults</td>\n",
       "      <td>violent</td>\n",
       "    </tr>\n",
       "    <tr>\n",
       "      <th>8</th>\n",
       "      <td>01/09/2010 12:00:00 AM</td>\n",
       "      <td>1</td>\n",
       "      <td>230</td>\n",
       "      <td>ASSAULT WITH DEADLY WEAPON, AGGRAVATED ASSAULT</td>\n",
       "      <td>34.0450</td>\n",
       "      <td>-118.2640</td>\n",
       "      <td>2010-01-09</td>\n",
       "      <td>2010</td>\n",
       "      <td>1</td>\n",
       "      <td>Saturday</td>\n",
       "      <td>Aggravated Assaults</td>\n",
       "      <td>violent</td>\n",
       "    </tr>\n",
       "  </tbody>\n",
       "</table>\n",
       "</div>"
      ],
      "text/plain": [
       "                 DATE OCC  AREA  Crm Cd  \\\n",
       "4  01/02/2010 12:00:00 AM     1     122   \n",
       "5  01/04/2010 12:00:00 AM     1     442   \n",
       "6  01/07/2010 12:00:00 AM     1     330   \n",
       "7  01/08/2010 12:00:00 AM     1     230   \n",
       "8  01/09/2010 12:00:00 AM     1     230   \n",
       "\n",
       "                                      Crm Cd Desc      LAT       LON  \\\n",
       "4                                 RAPE, ATTEMPTED  34.0387 -118.2488   \n",
       "5        SHOPLIFTING - PETTY THEFT ($950 & UNDER)  34.0480 -118.2577   \n",
       "6                           BURGLARY FROM VEHICLE  34.0389 -118.2643   \n",
       "7  ASSAULT WITH DEADLY WEAPON, AGGRAVATED ASSAULT  34.0435 -118.2427   \n",
       "8  ASSAULT WITH DEADLY WEAPON, AGGRAVATED ASSAULT  34.0450 -118.2640   \n",
       "\n",
       "        Date  Year  Month       Day    Crime_Description Crime Type  \n",
       "4 2010-01-02  2010      1  Saturday                 Rape    violent  \n",
       "5 2010-01-04  2010      1    Monday          Other Theft   property  \n",
       "6 2010-01-07  2010      1  Thursday   Theft from Vehicle   property  \n",
       "7 2010-01-08  2010      1    Friday  Aggravated Assaults    violent  \n",
       "8 2010-01-09  2010      1  Saturday  Aggravated Assaults    violent  "
      ]
     },
     "execution_count": 11,
     "metadata": {},
     "output_type": "execute_result"
    }
   ],
   "source": [
    "LAcrime.head()"
   ]
  },
  {
   "cell_type": "markdown",
   "id": "11b5b687-4cc0-4690-995e-c9699f021b7c",
   "metadata": {},
   "source": [
    "#### Export the \"LAcrime\" dataframe as a compressed Python object. This will be used in further analyses."
   ]
  },
  {
   "cell_type": "code",
   "execution_count": 12,
   "id": "0df543be-5c96-425a-a35b-8b81e98345fe",
   "metadata": {
    "tags": []
   },
   "outputs": [],
   "source": [
    "LAcrime.to_parquet(\"LAcrime_trimmed\", compression = \"snappy\")"
   ]
  }
 ],
 "metadata": {
  "kernelspec": {
   "display_name": "Python 3 (ipykernel)",
   "language": "python",
   "name": "python3"
  },
  "language_info": {
   "codemirror_mode": {
    "name": "ipython",
    "version": 3
   },
   "file_extension": ".py",
   "mimetype": "text/x-python",
   "name": "python",
   "nbconvert_exporter": "python",
   "pygments_lexer": "ipython3",
   "version": "3.10.12"
  }
 },
 "nbformat": 4,
 "nbformat_minor": 5
}
